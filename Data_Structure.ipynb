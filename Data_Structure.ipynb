{
  "nbformat": 4,
  "nbformat_minor": 0,
  "metadata": {
    "colab": {
      "provenance": []
    },
    "kernelspec": {
      "name": "python3",
      "display_name": "Python 3"
    },
    "language_info": {
      "name": "python"
    }
  },
  "cells": [
    {
      "cell_type": "markdown",
      "source": [
        "# Data Types and Structures Theory Questions"
      ],
      "metadata": {
        "id": "VuBToVCTZ69w"
      }
    },
    {
      "cell_type": "markdown",
      "source": [
        "1.  What are data structures, and why are they important ?\n",
        "    # Data Structures :-   \n",
        "    A data structure is a way of organizing and storing data so it can be used efficiently. Think of it like a container that holds your data in a specific format, making it easier to access, manage, and modify.\n",
        "\n",
        "    # Structures Importants :-\n",
        "   \n",
        "    Efficiency:-  \n",
        "    They help you store and access data quickly. For example, searching for a name in a phone book is faster when the names are sorted alphabetically.\n",
        "\n",
        "    Better Organization:-\n",
        "    \n",
        "    They allow you to organize large amounts of data in a meaningful way, making it easier to manage.\n",
        "\n",
        "    Optimized Performance:-\n",
        "    \n",
        "    Using the right data structure makes your program run faster and use less memory.\n",
        "\n",
        "    Problem Solving:-  \n",
        "    Many real-world problems (like scheduling, navigation, and searching) can be solved more easily with proper data structures.\n",
        "\n",
        "\n",
        "\n",
        "\n"
      ],
      "metadata": {
        "id": "ttk3EQlMZ7A4"
      }
    },
    {
      "cell_type": "markdown",
      "source": [
        "2.  Explain the difference between mutable and immutable data types with examples.\n",
        "\n",
        "    - In programming, data types can be categorized into:\n",
        "\n",
        "      Mutable :- Can be modified after creation.\n",
        "\n",
        "           my_set = {1, 2, 3}\n",
        "           my_set.add(4)         # Adding an element\n",
        "           print(my_set)         # Output: {1, 2, 3, 4}\n",
        "\n",
        "\n",
        "     \n",
        "  Immutable :-  Cannot be modified after creation.\n",
        "\n",
        "      \n",
        "            my_tuple = (1, 2, 3)\n",
        "            # my_tuple[0] = 10   # TypeError: 'tuple' object does not support item assignment\n",
        "\n",
        "\n",
        "    \n",
        "\n",
        "\n",
        "\n"
      ],
      "metadata": {
        "id": "ztuRDwohZ7G4"
      }
    },
    {
      "cell_type": "markdown",
      "source": [
        "3. What are the main differences between lists and tuples in Python ?\n",
        "\n",
        "    - difference between lists and tuples\n",
        "    \n",
        "    lists :-  lists are  mutable data type and we can modified after creation\n",
        "\n",
        "    tuples:- tuples are immutable data type and we can not modified after creation"
      ],
      "metadata": {
        "id": "i-cdoNcxZ7J5"
      }
    },
    {
      "cell_type": "markdown",
      "source": [
        "4.  Describe how dictionaries store data.\n",
        "\n",
        "    - dictionaries store data in key-value pair. or you can say that >> A dictionary in Python stores data using a hash table. When you add a key-value pair, Python applies a hash function to the key, which generates a unique number (hash). This hash acts like an address where the value is stored. When you access a value by its key, Python quickly finds it using the hash, making lookups fast.\n",
        "\n",
        "\n",
        "\n",
        "\n",
        "\n",
        "\n",
        "\n",
        "\n"
      ],
      "metadata": {
        "id": "nKE3zXxncQoO"
      }
    },
    {
      "cell_type": "markdown",
      "source": [
        "5. Why might you use a set instead of a list in Python ?\n",
        "\n",
        "    - You might use a set instead of a list in Python when you need:\n",
        "\n",
        "    #  Unique Elements Only\n",
        "\n",
        "     Sets automatically remove duplicates, while lists can contain duplicates.\n",
        "\n",
        "     If you want to ensure all values are unique, a set is more appropriate.\n",
        "\n",
        "    #  Faster Membership Testing\n",
        "\n",
        "      Sets use hashing, making membership tests (in) significantly faster than lists, especially with large datasets.\n",
        "\n",
        "    # Set Operations\n",
        "\n",
        "      Sets support operations like union, intersection, difference, and symmetric difference, which are not directly available for lists.\n",
        "\n",
        "    # Improved Performance with Large Data\n",
        "\n",
        "      When working with large datasets, sets offer better performance for lookup and removal operations due to their hash table implementation.\n",
        "\n",
        "     \n",
        "\n",
        "    \n",
        "\n",
        "\n",
        "     \n",
        "\n",
        "     "
      ],
      "metadata": {
        "id": "GwDx6ONnZ7NA"
      }
    },
    {
      "cell_type": "markdown",
      "source": [
        "6.  What is a string in Python, and how is it different from a list ?\n",
        "\n",
        "    - A string in Python is a sequence of characters enclosed in either single quotes ('), double quotes (\"), or triple quotes (''' or \"\"\"). It is used to represent text data.\n",
        "\n",
        "    # differences between string and list\n",
        "\n",
        "#string :-  \n",
        "       \n",
        "       Definition:- Sequence of characters\n",
        "\n",
        "       Syntax:- 'Hello', \"Python\"\n",
        "\n",
        "       Mutable/Immutable :- Immutable (cannot be changed)\n",
        "\n",
        "       Indexing :-   Access individual characters\n",
        "\n",
        "       Iteration :- \tIterates over each character\n",
        "\n",
        "       Concatenation :- \tUse + to concatenate\n",
        "\n",
        "      Modification :- \tCannot modify characters in place\n",
        "\n",
        "      Data Type Flexibility\t:-  Contains only characters\n",
        "\n",
        "     \n",
        "  # list :-\n",
        "\n",
        "     Definition:- sequence of elements(can be of any data type)\n",
        "\n",
        "       Syntax:- [1,2,3] , ['a','b','c','d']\n",
        "\n",
        "       Mutable/Immutable :- mutable (can  be modified)\n",
        "\n",
        "       Indexing :-   Access individual elements\n",
        "\n",
        "       Iteration :- \tIterates over each element\n",
        "\n",
        "       Concatenation :- \tUse + or .extend()\n",
        "\n",
        "      Modification :- \tCan modify individual elements\n",
        "\n",
        "      Data Type Flexibility\t:-  can Contains different data types\n",
        "\n",
        "\n",
        "\n",
        "\n",
        "\n",
        "\n"
      ],
      "metadata": {
        "id": "0mxPzyJFZ7P3"
      }
    },
    {
      "cell_type": "markdown",
      "source": [
        "7.How do tuples ensure data integrity in Python ?\n",
        "\n",
        "    \n",
        "  - Tuples in Python help ensure data integrity primarily through their immutability.\n",
        "\n",
        "    # Immutability:-\n",
        "    \n",
        "     Once a tuple is created, its elements cannot be modified, added, or removed. This immutability makes tuples a reliable structure for storing fixed collections of data that should not be accidentally altered during\n",
        "     \n",
        "    # Hashability and Use as Keys in Dictionaries:-\n",
        "\n",
        "     Tuples are hashable (if they contain only immutable elements), allowing them to be used as keys in dictionaries or stored in sets. This enables the creation of reliable mappings and ensures the integrity of the key-value associations.\n",
        "\n",
        "    # Tuple Packing and Unpacking:\n",
        "\n",
        "     Tuples are commonly used for packing and unpacking multiple values, ensuring that the data structure is predictable and protected from accidental modification.\n",
        "     The fixed structure makes the data reliable and easy to access.\n",
        "     \n",
        "    # Protection in Function Arguments:-\n",
        "\n",
        "     Tuples are often used to pass read-only collections to functions. This ensures that the original data cannot be altered by the function.\n",
        "\n",
        "    # Memory Efficiency and Performance:-\n",
        "\n",
        "     Tuples consume less memory than lists and have slightly better performance due to their immutability, making them ideal for storing constant data.\n",
        "\n",
        "\n",
        "\n",
        "\n",
        "\n",
        "     \n",
        "\n"
      ],
      "metadata": {
        "id": "yCn0dxTlZ7S_"
      }
    },
    {
      "cell_type": "markdown",
      "source": [
        "8.  What is a hash table, and how does it relate to dictionaries in Python ?\n",
        "\n",
        "    - A hash table is a data structure used to store key-value pairs. It allows for efficient data retrieval in average-case\n",
        "     O(1) time complexity for lookups, insertions, and deletions.\n",
        "\n",
        "     In Python, the dict type is an implementation of a hash table. It maps keys to values, ensuring average O(1) time complexity for lookups and modifications.\n",
        "\n",
        "     Keys are hashed:-  Python uses a built-in hash function (hash()) to generate the hash code.\n",
        "\n",
        "     Order preservation:- Since Python 3.7+, dictionaries maintain insertion order.\n",
        "\n",
        "     Collision handling: Python uses open addressing with probing for resolving collisions.\n",
        "\n",
        "\n",
        "\n"
      ],
      "metadata": {
        "id": "rGLr4SbTZ7WB"
      }
    },
    {
      "cell_type": "markdown",
      "source": [
        "9. Can lists contain different data types in Python  ?\n",
        "\n",
        "    - yes, in Python, lists can contain elements of different data types. Python lists are heterogeneous, meaning they can hold a mix of integers, floats, strings, booleans, objects, or even other lists.\n",
        "\n",
        "\n",
        "\n"
      ],
      "metadata": {
        "id": "fheMdPqpZ7Zg"
      }
    },
    {
      "cell_type": "markdown",
      "source": [
        "10. Explain why strings are immutable in Python.\n",
        "\n",
        "    - Strings are immutable in Python because of design efficiency, security, and performance reasons. Here’s a detailed explanation of why this design choice was made:\n",
        "\n",
        "    # Memory Efficiency (String Interning) :-\n",
        "\n",
        "     Python uses a technique called string interning, where identical string values are stored only once in memory. This reduces memory usage and improves performance. Since strings are immutable, Python can safely reuse the same string object without worrying about unexpected modifications.\n",
        "   \n",
        "    # Security and Hashing\n",
        "\n",
        "     Strings are frequently used as keys in dictionaries and sets, which rely on hashing. If strings were mutable, their hash value could change unexpectedly, making them unreliable as dictionary keys.By keeping strings immutable, Python ensures that their hash values remain constant, making them safe and consistent for use as dictionary keys.\n",
        "\n",
        "    #  Thread Safety :-\n",
        "\n",
        "      Immutable objects are inherently thread-safe. Since strings cannot be changed, multiple threads can safely access the same string object without causing race conditions or unexpected behavior.\n",
        "\n",
        "    # Simplified Code and Reduced Bugs :-\n",
        "\n",
        "     If strings were mutable, operations like slicing or concatenation would modify the original string. This could lead to unexpected side effects and make debugging harder. Since strings are immutable, you don’t have to worry about them being unintentionally modified elsewhere in the code.     \n",
        "\n",
        "     \n",
        "\n",
        "\n"
      ],
      "metadata": {
        "id": "3Ut4wIHNZ7co"
      }
    },
    {
      "cell_type": "markdown",
      "source": [
        "11. What advantages do dictionaries offer over lists for certain tasks ?\n",
        "\n",
        "  - Dictionaries offer several advantages over lists for certain tasks, especially when dealing with key-value pairs or when efficient lookups are required. Here are some key advantages:\n",
        "\n",
        "    # Faster Lookups:-\n",
        "\n",
        "     Dictionaries: Provide O(1) average time complexity for lookups due to hashing. You can quickly retrieve a value by its key.\n",
        "\n",
        "     Lists: Lookups are O(n), as you may need to iterate through the entire list to find an item.\n",
        "\n",
        "    # Key-Value Pair Structure :-\n",
        "\n",
        "     Dictionaries: Store data as key: value pairs, making them ideal for mapping relationships (e.g., ID → name, country → capital).\n",
        "\n",
        "     Lists: Only store individual values or nested lists, making data relationships less clear.\n",
        "\n",
        "    #  Easier Data Management :-  \n",
        "\n",
        "     Dictionaries: Allow you to access, modify, or delete values using meaningful keys, making the code more readable and manageable.\n",
        "\n",
        "     Lists: Require positional indexing, which can be harder to follow, especially in complex datasets.\n",
        "\n",
        "    # Insertion and Deletion Efficiency :-   \n",
        "\n",
        "      Dictionaries: Insertion and deletion of key-value pairs are O(1) on average.\n",
        "\n",
        "      Lists: Insertion and deletion are O(n) in the worst case (when you need to shift elements).\n",
        "\n",
        "    # No Duplicate Keys :-    \n",
        "\n",
        "      Dictionaries: Automatically prevent duplicate keys, ensuring each key is unique.\n",
        "\n",
        "      Lists: Allow duplicate values, which may lead to inconsistent data handling.   \n",
        "\n",
        "       \n",
        "\n",
        "     \n",
        "\n",
        "\n",
        "\n",
        "     \n",
        "\n"
      ],
      "metadata": {
        "id": "DeqfAE_tZ7fp"
      }
    },
    {
      "cell_type": "markdown",
      "source": [
        "12. Describe a scenario where using a tuple would be preferable over a list.\n",
        "\n",
        "    - A tuple is preferable over a list in scenarios where immutability and data integrity are important. Here’s a concrete example:\n",
        "\n",
        "    # Scenario: Storing GPS Coordinates :-\n",
        "\n",
        "      Imagine you are building an application that handles location data. Each location is represented by a latitude and longitude pair, e.g., (40.7128, -74.0060) for New York City.\n",
        "\n",
        "      Since the coordinates should not change once they are assigned, using a tuple is more appropriate than a list.\n",
        "\n",
        "    -"
      ],
      "metadata": {
        "id": "5JqLkeGTZ7i3"
      }
    },
    {
      "cell_type": "markdown",
      "source": [
        "13.  How do sets handle duplicate values in Python ?\n",
        "\n",
        "    - In Python, sets automatically remove duplicate values. When you add elements to a set, any duplicates are ignored, and only unique values are stored. This is because sets are unordered collections of unique items."
      ],
      "metadata": {
        "id": "t8XgHhVYMGBd"
      }
    },
    {
      "cell_type": "markdown",
      "source": [
        "14. How does the “in” keyword work differently for lists and dictionaries ?\n",
        "\n",
        "    - The in keyword in Python is used to check for membership in a sequence or collection, but it behaves slightly differently for lists and dictionaries.\n",
        "\n",
        "    #  Using in with Lists :-\n",
        "\n",
        "      When you use in with a list, it checks whether a value exists in the list.\n",
        "\n",
        "      It checks whether the specified value exists in the list.\n",
        "\n",
        "      The search is sequential (from left to right).\n",
        "\n",
        "      Time complexity: O(n), where n is the length of the list.\n",
        "\n",
        "    # Using in with Dictionaries :-\n",
        "\n",
        "      When you use in with a dictionary, it checks for the presence of a key, not the value.\n",
        "\n",
        "      By default, in checks for keys, not values.\n",
        "\n",
        "      To check for values, use .values() or .items():\n",
        "\n",
        "      25 in person.values() → Checks if 25 is a value.\n",
        "\n",
        "     ('name', 'Alice') in person.items() → Checks for key-value pair.\n",
        "\n",
        "     Time complexity: O(1) on average, due to the dictionary's hash table implementation.\n",
        "\n"
      ],
      "metadata": {
        "id": "9Z5JHnkAMGOU"
      }
    },
    {
      "cell_type": "markdown",
      "source": [
        "15.  Can you modify the elements of a tuple? Explain why or why not.\n",
        "\n",
        "    - No, you cannot modify the elements of a tuple in Python because tuples are immutable.\n",
        "\n",
        "    # Immutability Explained :-   \n",
        "\n",
        "      Once a tuple is created, its elements cannot be changed, added, or removed.\n",
        "\n",
        "     This is in contrast to lists, which are mutable and allow modifications."
      ],
      "metadata": {
        "id": "XXW3Cn0ZMGZd"
      }
    },
    {
      "cell_type": "markdown",
      "source": [
        "16.  What is a nested dictionary, and give an example of its use case ?\n",
        "\n",
        "    - A nested dictionary is a dictionary inside another dictionary. In Python, dictionaries store data in key-value pairs, and when a dictionary contains another dictionary as a value, it is considered nested.\n",
        "\n",
        "    # Syntax Example:\n",
        "\n",
        "        \n",
        "        # Nested dictionary with two levels\n",
        "           student_data = {\n",
        "         \"Alice\": {\"age\": 20, \"grade\": \"A\", \"major\": \"Physics\"},\n",
        "         \"Bob\": {\"age\": 22, \"grade\": \"B\", \"major\": \"Mathematics\"},\n",
        "         \"Charlie\": {\"age\": 21, \"grade\": \"A-\", \"major\": \"Computer Science\"}\n",
        "         }\n",
        "\n",
        "    \n",
        "  \n",
        "  # Use Cases of Nested Dictionaries :-  \n",
        "\n",
        "  Storing Complex Data Structures :-   Nested dictionaries are useful for representing complex data structures, such as storing hierarchical data ( employee records, organization charts, etc.).\n",
        "\n",
        "\n",
        "JSON-like Data Representation :-  When working with data from APIs, the JSON format often resembles nested dictionaries, making it easier to access and manipulate.\n",
        "\n",
        "\n",
        "Database Simulation :-  You can simulate a mini-database using nested dictionaries, storing data in multiple layers.\n",
        "\n"
      ],
      "metadata": {
        "id": "Tah0BxYNMGlc"
      }
    },
    {
      "cell_type": "markdown",
      "source": [
        "17.  Describe the time complexity of accessing elements in a dictionary.\n",
        "\n",
        "     - Accessing an element in a dictionary (in languages like Python) has an average time complexity of O(1). This is because dictionaries use hash tables to store key-value pairs, allowing for constant-time lookup in most cases.\n",
        "\n",
        "    # Average Case: O(1) :-  \n",
        "\n",
        "      When you access an element using dict[key], the dictionary computes the hash of the key and uses it to locate the value in the underlying hash table.\n",
        "\n",
        "     Since hash functions are designed to distribute keys uniformly, the average lookup time is constant.\n",
        "\n",
        "    # Worst Case: O(n) :-    \n",
        "\n",
        "      n rare cases, when there are hash collisions, multiple keys are mapped to the same hash value.\n",
        "\n",
        "      In this case, the dictionary resolves the collision by chaining (storing the colliding elements in a list or another structure), which leads to O(n) lookup time in the worst case, where n is the number of keys with the same hash.\n",
        "\n",
        "     However, modern dictionaries (like Python’s dict) use efficient collision resolution techniques, making worst-case scenarios uncommon.\n",
        "\n",
        "    # Amortized Case: O(1) :-   \n",
        "\n",
        "      Even though resizing a dictionary (rehashing) takes O(n) time, it happens infrequently. Thus, the amortized time complexity of dictionary access remains O(1).\n",
        "\n",
        "\n"
      ],
      "metadata": {
        "id": "J1g9Con_MGuU"
      }
    },
    {
      "cell_type": "markdown",
      "source": [
        "18. In what situations are lists preferred over dictionaries ?\n",
        "\n",
        "  - Lists are preferred over dictionaries in the following situations:\n",
        "\n",
        "    #  When Order Matters :-   \n",
        "\n",
        "      Lists maintain the order of elements based on their insertion index. This makes them ideal for sequential data or when you need to access elements by position (e.g., first, second, last).\n",
        "\n",
        "    # When You Only Need Values (No Key-Value Pair) :-   \n",
        "\n",
        "      If you just need a collection of values without associating them with specific keys, lists are simpler and more appropriate.\n",
        "\n",
        "    # When You Need Faster Iteration or Simplicity :-\n",
        "\n",
        "      terating over lists is faster and simpler because you only deal with values, whereas iterating over a dictionary requires accessing both keys and values. if you only care about values, lists are more straightforward.\n",
        "\n",
        "    # When Memory Efficiency Matters :-  \n",
        "\n",
        "      Lists are more memory-efficient than dictionaries. Dictionaries store key-value pairs, which takes more space due to hash tables and pointers.\n",
        "\n",
        "     For large collections of simple values, lists consume less memory.\n",
        "\n",
        "    #  When You Need Indexed Access :-\n",
        "\n",
        "      Lists provide O(1) access time when accessing elements by index, which is faster and more direct than dictionary lookups by key.\n",
        "\n",
        "\n",
        "\n"
      ],
      "metadata": {
        "id": "fizAHVuiMG18"
      }
    },
    {
      "cell_type": "markdown",
      "source": [
        "19.  Why are dictionaries considered unordered, and how does that affect data retrieval ?\n",
        "\n",
        "  - Dictionaries in Python are considered unordered because, until Python 3.7, they did not guarantee the order in which items were stored. The internal implementation of dictionaries is based on hash tables, which prioritize efficient key-value lookups over maintaining the order of insertion.\n",
        "\n",
        "    #  How does this affect data retrieval\n",
        "\n",
        "      Efficient lookups: Despite being unordered, dictionaries offer O(1) time complexity for retrieving values by key. This is because the hash function directly maps the key to its position in the hash table.\n",
        "\n",
        "     No guaranteed order (pre-3.7): When iterating or printing, the output order was unpredictable.\n",
        "\n",
        "     Key uniqueness: Even though order was not guaranteed, dictionaries still enforced unique keys.\n",
        "\n",
        "     "
      ],
      "metadata": {
        "id": "ZdNlXkivMG71"
      }
    },
    {
      "cell_type": "markdown",
      "source": [
        "20. Explain the difference between a list and a dictionary in terms of data retrieval.\n",
        "\n",
        "    - The key difference between a list and a dictionary in terms of data retrieval is how the data is accessed:\n",
        "\n",
        "    # List: Retrieval by Index (Positional Access) :-  \n",
        "\n",
        "      A list is an ordered collection of items, where each item is accessed using its index (position).\n",
        "\n",
        "      Indices are integers starting from 0 for the first element, 1 for the second, and so on.\n",
        "\n",
        "      Retrieving an element from a list requires knowing its position.\n",
        "\n",
        "      Retrieval time complexity: O(1) for direct access by index.\n",
        "\n",
        "    #  Dictionary: Retrieval by Key (Key-Value Access) :-\n",
        "\n",
        "      A dictionary is an unordered collection of key-value pairs.\n",
        "\n",
        "      Each value is accessed using its key, which can be any immutable data type (e.g., string, number, tuple).\n",
        "\n",
        "      Key-based access makes retrieval faster and more intuitive.\n",
        "\n",
        "      Retrieval time complexity: O(1) on average, thanks to hashing.\n",
        "\n"
      ],
      "metadata": {
        "id": "yz4bhGiRktuC"
      }
    },
    {
      "cell_type": "markdown",
      "source": [
        "# Data Types and Structures  Practical Questions"
      ],
      "metadata": {
        "id": "CD9HHj_s68T9"
      }
    },
    {
      "cell_type": "code",
      "source": [
        "# Q.1  Write a code to create a string with your name and print it.\n",
        "\n",
        "name = \"sakshi shrivas\"\n",
        "print(name)"
      ],
      "metadata": {
        "colab": {
          "base_uri": "https://localhost:8080/"
        },
        "id": "fJeIpa0w7ycF",
        "outputId": "fceae2d7-c9a2-4bee-8555-75aa7b53f2c5"
      },
      "execution_count": null,
      "outputs": [
        {
          "output_type": "stream",
          "name": "stdout",
          "text": [
            "sakshi shrivas\n"
          ]
        }
      ]
    },
    {
      "cell_type": "code",
      "source": [
        "# Q.2  Write a code to find the length of the string \"Hello World\".\n",
        "\n",
        "str_1 = \"Hello World\"\n",
        "print(len(str_1))"
      ],
      "metadata": {
        "colab": {
          "base_uri": "https://localhost:8080/"
        },
        "id": "XmKOu3VJ7y1s",
        "outputId": "d38ac09b-62ce-41e9-bed8-f4e3d9858262"
      },
      "execution_count": null,
      "outputs": [
        {
          "output_type": "stream",
          "name": "stdout",
          "text": [
            "11\n"
          ]
        }
      ]
    },
    {
      "cell_type": "code",
      "source": [
        "# Q.3 Write a code to slice the first 3 characters from the string \"Python Programming\".\n",
        "\n",
        "slice_1 = \"Python Programming\"\n",
        "print(slice_1[0:3])"
      ],
      "metadata": {
        "colab": {
          "base_uri": "https://localhost:8080/"
        },
        "id": "mzA5ZenX7y8l",
        "outputId": "8699ed03-b201-40fa-b24b-ab80701aac4c"
      },
      "execution_count": null,
      "outputs": [
        {
          "output_type": "stream",
          "name": "stdout",
          "text": [
            "Pyt\n"
          ]
        }
      ]
    },
    {
      "cell_type": "code",
      "source": [
        "# Q.4  Write a code to convert the string \"hello\" to uppercase.\n",
        "\n",
        "str_2 = \"hello\"\n",
        "print(str_2.upper())"
      ],
      "metadata": {
        "colab": {
          "base_uri": "https://localhost:8080/"
        },
        "id": "nwvvhEs17y_8",
        "outputId": "b55e23f6-af1b-45c8-c63d-4fb3ec1111fd"
      },
      "execution_count": null,
      "outputs": [
        {
          "output_type": "stream",
          "name": "stdout",
          "text": [
            "HELLO\n"
          ]
        }
      ]
    },
    {
      "cell_type": "code",
      "source": [
        "# Q.5 Write a code to replace the word \"apple\" with \"orange\" in the string \"I like apple\".\n",
        "\n",
        "word = \"I like apple\"\n",
        "print(word.replace(\"apple\", \"orange\"))"
      ],
      "metadata": {
        "colab": {
          "base_uri": "https://localhost:8080/"
        },
        "id": "kgmf0R4a7zDV",
        "outputId": "81c3884f-f223-45e5-b0fa-a06aff91f0bb"
      },
      "execution_count": null,
      "outputs": [
        {
          "output_type": "stream",
          "name": "stdout",
          "text": [
            "I like orange\n"
          ]
        }
      ]
    },
    {
      "cell_type": "code",
      "source": [
        "# Q.6 Write a code to create a list with numbers 1 to 5 and print it.\n",
        "\n",
        "list_1 = [1,2,3,4,5]\n",
        "print(list_1)\n",
        "print(type(list_1))"
      ],
      "metadata": {
        "colab": {
          "base_uri": "https://localhost:8080/"
        },
        "id": "ema1J4oA7zG9",
        "outputId": "f9a5d61f-a4e7-4c4a-eda7-cf393586e3ec"
      },
      "execution_count": null,
      "outputs": [
        {
          "output_type": "stream",
          "name": "stdout",
          "text": [
            "[1, 2, 3, 4, 5]\n",
            "<class 'list'>\n"
          ]
        }
      ]
    },
    {
      "cell_type": "code",
      "source": [
        "# Q.7  Write a code to append the number 10 to the list [1, 2, 3, 4].\n",
        "\n",
        "list_2 = [1,2,3,4]\n",
        "list_2.append(10)\n",
        "print(list_2)"
      ],
      "metadata": {
        "colab": {
          "base_uri": "https://localhost:8080/"
        },
        "id": "dMBwbui6EKWq",
        "outputId": "7d29ab02-a7fc-4834-9d1e-f42f08135e18"
      },
      "execution_count": null,
      "outputs": [
        {
          "output_type": "stream",
          "name": "stdout",
          "text": [
            "[1, 2, 3, 4, 10]\n"
          ]
        }
      ]
    },
    {
      "cell_type": "code",
      "source": [
        "# Q.8  Write a code to remove the number 3 from the list [1, 2, 3, 4, 5].\n",
        "\n",
        "list_3 = [1,2,3,4,5]\n",
        "list_3.remove(3)\n",
        "print(list_3)"
      ],
      "metadata": {
        "colab": {
          "base_uri": "https://localhost:8080/"
        },
        "id": "6THm31bQEKfz",
        "outputId": "6b7cc16e-db79-4a83-db6b-9fab1fb9378b"
      },
      "execution_count": null,
      "outputs": [
        {
          "output_type": "stream",
          "name": "stdout",
          "text": [
            "[1, 2, 4, 5]\n"
          ]
        }
      ]
    },
    {
      "cell_type": "code",
      "source": [
        "# Q. 9  Write a code to access the second element in the list ['a', 'b', 'c', 'd'].\n",
        "\n",
        "list_4 = ['a', 'b', 'c', 'd']\n",
        "print(list_4[1])"
      ],
      "metadata": {
        "colab": {
          "base_uri": "https://localhost:8080/"
        },
        "id": "XvK5jLo4EKjC",
        "outputId": "3e60cbc3-31e3-4446-c9a2-776f6a01e4a5"
      },
      "execution_count": null,
      "outputs": [
        {
          "output_type": "stream",
          "name": "stdout",
          "text": [
            "b\n"
          ]
        }
      ]
    },
    {
      "cell_type": "code",
      "source": [
        "# Q.10  Write a code to reverse the list [10, 20, 30, 40, 50].\n",
        "\n",
        "list_5 = [10, 20, 30, 40, 50]\n",
        "list_5.reverse()\n",
        "print(list_5)"
      ],
      "metadata": {
        "colab": {
          "base_uri": "https://localhost:8080/"
        },
        "id": "xrZtfsMLEKmK",
        "outputId": "2fce40af-bfcb-4e8c-8e23-e51bb25f7c5d"
      },
      "execution_count": null,
      "outputs": [
        {
          "output_type": "stream",
          "name": "stdout",
          "text": [
            "[50, 40, 30, 20, 10]\n"
          ]
        }
      ]
    },
    {
      "cell_type": "code",
      "source": [
        "# Q.11 Write a code to create a tuple with the elements 100, 200, 300 and print it.\n",
        "\n",
        "tuple_1 = (100,200,300)\n",
        "print(tuple_1)\n",
        "print(type(tuple_1))"
      ],
      "metadata": {
        "colab": {
          "base_uri": "https://localhost:8080/"
        },
        "id": "piaMIVmwGqTy",
        "outputId": "f75aa774-2499-4299-b39f-aaddb90e2e2a"
      },
      "execution_count": null,
      "outputs": [
        {
          "output_type": "stream",
          "name": "stdout",
          "text": [
            "(100, 200, 300)\n",
            "<class 'tuple'>\n"
          ]
        }
      ]
    },
    {
      "cell_type": "code",
      "source": [
        "# Q.12  Write a code to access the second-to-last element of the tuple ('red', 'green', 'blue', 'yellow').\n",
        "\n",
        "tuple_2 = ('red', 'green', 'blue', 'yellow')\n",
        "print(tuple_2[2])\n",
        "print(tuple_2[-2])"
      ],
      "metadata": {
        "colab": {
          "base_uri": "https://localhost:8080/"
        },
        "id": "lSm_d8YkEKpB",
        "outputId": "7b10d625-f928-4854-fefa-12d7994b3b52"
      },
      "execution_count": null,
      "outputs": [
        {
          "output_type": "stream",
          "name": "stdout",
          "text": [
            "blue\n",
            "blue\n"
          ]
        }
      ]
    },
    {
      "cell_type": "code",
      "source": [
        "# Q.13 Write a code to find the minimum number in the tuple (10, 20, 5, 15).\n",
        "\n",
        "tuple_3 = (10, 20, 5, 15)\n",
        "print(min(tuple_3))"
      ],
      "metadata": {
        "id": "1Ts9PUkhEKr7",
        "colab": {
          "base_uri": "https://localhost:8080/"
        },
        "outputId": "68b99776-0909-438b-e1d2-15becbc19652"
      },
      "execution_count": null,
      "outputs": [
        {
          "output_type": "stream",
          "name": "stdout",
          "text": [
            "5\n"
          ]
        }
      ]
    },
    {
      "cell_type": "code",
      "source": [
        "# Q.14  Write a code to find the index of the element \"cat\" in the tuple ('dog', 'cat', 'rabbit').\n",
        "\n",
        "tuple_4 = ('dog', 'cat', 'rabbit')\n",
        "print(tuple_4.index(\"cat\"))"
      ],
      "metadata": {
        "id": "DDSz51uQEKu7",
        "colab": {
          "base_uri": "https://localhost:8080/"
        },
        "outputId": "582da11e-0dd4-4081-9661-633ba827b44a"
      },
      "execution_count": null,
      "outputs": [
        {
          "output_type": "stream",
          "name": "stdout",
          "text": [
            "1\n"
          ]
        }
      ]
    },
    {
      "cell_type": "code",
      "source": [
        "# Q.15 Write a code to create a tuple containing three different fruits and check if \"kiwi\" is in it.\n",
        "\n",
        "tuple_5 = (\"apple\", \"mango\",\"kiwi\")\n",
        "if \"kiwi\" in tuple_5:\n",
        "  print(\"yes kiwi is avaliable in tuple \")\n",
        "else:\n",
        "  (\"no kiwi is not avaliable in tuple\")"
      ],
      "metadata": {
        "id": "D6kUvvbAEKy7",
        "colab": {
          "base_uri": "https://localhost:8080/"
        },
        "outputId": "34ef6a4a-f937-44b4-c220-94aafe3d319d"
      },
      "execution_count": null,
      "outputs": [
        {
          "output_type": "stream",
          "name": "stdout",
          "text": [
            "yes kiwi is avaliable in tuple \n"
          ]
        }
      ]
    },
    {
      "cell_type": "code",
      "source": [
        "# Q.16 . Write a code to create a set with the elements 'a', 'b', 'c' and print it.\n",
        "\n",
        "set_1 = {'a', 'b', 'c'}\n",
        "print(set_1)\n",
        "print(type(set_1))"
      ],
      "metadata": {
        "colab": {
          "base_uri": "https://localhost:8080/"
        },
        "id": "yhYkQLuMWtu6",
        "outputId": "c32678e6-d8c6-4155-dadd-9a90170b6aab"
      },
      "execution_count": null,
      "outputs": [
        {
          "output_type": "stream",
          "name": "stdout",
          "text": [
            "{'a', 'b', 'c'}\n",
            "<class 'set'>\n"
          ]
        }
      ]
    },
    {
      "cell_type": "code",
      "source": [
        "# Q.17 Write a code to clear all elements from the set {1, 2, 3, 4, 5}.\n",
        "\n",
        "set_2 = {1, 2, 3, 4, 5}\n",
        "set_2.clear()\n",
        "print(set_2)"
      ],
      "metadata": {
        "colab": {
          "base_uri": "https://localhost:8080/"
        },
        "id": "8Wkgt-L2Wtyx",
        "outputId": "fa919e69-8195-4baa-8cef-888c4fe459e8"
      },
      "execution_count": null,
      "outputs": [
        {
          "output_type": "stream",
          "name": "stdout",
          "text": [
            "set()\n"
          ]
        }
      ]
    },
    {
      "cell_type": "code",
      "source": [
        "# Q.18 Write a code to remove the element 4 from the set {1, 2, 3, 4}.\n",
        "\n",
        "set_3 = {1, 2, 3, 4}\n",
        "set_3.remove(4)\n",
        "print(set_3)"
      ],
      "metadata": {
        "colab": {
          "base_uri": "https://localhost:8080/"
        },
        "id": "MF6iAAKUWt2J",
        "outputId": "79e83af1-873c-44c9-fa6a-5e1396bdcfe3"
      },
      "execution_count": null,
      "outputs": [
        {
          "output_type": "stream",
          "name": "stdout",
          "text": [
            "{1, 2, 3}\n"
          ]
        }
      ]
    },
    {
      "cell_type": "code",
      "source": [
        "# Q.19  Write a code to find the union of two sets {1, 2, 3} and {3, 4, 5}.\n",
        "\n",
        "set_4 = {1, 2, 3}\n",
        "set_5 = {3, 4, 5}\n",
        "union_two_sets = set_4.union(set_5)\n",
        "print(union_two_sets)"
      ],
      "metadata": {
        "colab": {
          "base_uri": "https://localhost:8080/"
        },
        "id": "qniciAqEWt5Q",
        "outputId": "f00d4daa-ca38-476d-e453-56b168d87c66"
      },
      "execution_count": null,
      "outputs": [
        {
          "output_type": "stream",
          "name": "stdout",
          "text": [
            "{1, 2, 3, 4, 5}\n"
          ]
        }
      ]
    },
    {
      "cell_type": "code",
      "source": [
        "# Q.20  Write a code to find the intersection of two sets {1, 2, 3} and {2, 3, 4}.\n",
        "\n",
        "set_6 = {1, 2, 3}\n",
        "set_7 = {2, 3, 4}\n",
        "intersection_two_sets = set_6.intersection(set_7)\n",
        "print(intersection_two_sets)"
      ],
      "metadata": {
        "colab": {
          "base_uri": "https://localhost:8080/"
        },
        "id": "pYosxyMzWt8h",
        "outputId": "125b838c-81d0-4550-d144-f40af584b0b1"
      },
      "execution_count": null,
      "outputs": [
        {
          "output_type": "stream",
          "name": "stdout",
          "text": [
            "{2, 3}\n"
          ]
        }
      ]
    },
    {
      "cell_type": "code",
      "source": [
        "# Q.21  Write a code to create a dictionary with the keys \"name\", \"age\", and \"city\", and print it.\n",
        "\n",
        "dict_1 = {\"name\":\"sakshi\", \"age\":25, \"city\":\"satna\"}\n",
        "print(dict_1)\n",
        "print(type(dict_1))"
      ],
      "metadata": {
        "id": "2WiJAxtFWuDD",
        "colab": {
          "base_uri": "https://localhost:8080/"
        },
        "outputId": "23a2c269-b9f8-433d-a933-ef6ef2b53769"
      },
      "execution_count": 47,
      "outputs": [
        {
          "output_type": "stream",
          "name": "stdout",
          "text": [
            "{'name': 'sakshi', 'age': 25, 'city': 'satna'}\n",
            "<class 'dict'>\n"
          ]
        }
      ]
    },
    {
      "cell_type": "code",
      "source": [
        "# Q.22 Write a code to add a new key-value pair \"country\": \"USA\" to the dictionary {'name': 'John', 'age': 25}.\n",
        "\n",
        "dict_2 = {'name': 'John', 'age': 25}\n",
        "dict_2[\"country\"] = \"USA\"\n",
        "print(dict_2)"
      ],
      "metadata": {
        "colab": {
          "base_uri": "https://localhost:8080/"
        },
        "id": "sN2hlox1bhQW",
        "outputId": "486758d5-44cb-4b07-eec5-dce377c5d284"
      },
      "execution_count": 48,
      "outputs": [
        {
          "output_type": "stream",
          "name": "stdout",
          "text": [
            "{'name': 'John', 'age': 25, 'country': 'USA'}\n"
          ]
        }
      ]
    },
    {
      "cell_type": "code",
      "source": [
        "# Q.23 Write a code to access the value associated with the key \"name\" in the dictionary {'name': 'Alice', 'age': 30}.\n",
        "\n",
        "dict_3 = {'name': 'Alice', 'age': 30}\n",
        "print(dict_3.get(\"name\"))"
      ],
      "metadata": {
        "colab": {
          "base_uri": "https://localhost:8080/"
        },
        "id": "ZX1OuOzdbhT9",
        "outputId": "872a3b74-f67d-435d-836c-16e1cef8fe7e"
      },
      "execution_count": 49,
      "outputs": [
        {
          "output_type": "stream",
          "name": "stdout",
          "text": [
            "Alice\n"
          ]
        }
      ]
    },
    {
      "cell_type": "code",
      "source": [
        "# Q.24  Write a code to remove the key \"age\" from the dictionary {'name': 'Bob', 'age': 22, 'city': 'New York'}.\n",
        "\n",
        "dict_4 = {'name': 'Bob', 'age': 22, 'city': 'New York'}\n",
        "del dict_4[\"age\"]\n",
        "print(dict_4)"
      ],
      "metadata": {
        "colab": {
          "base_uri": "https://localhost:8080/"
        },
        "id": "-fYMzuFvbhXf",
        "outputId": "158e9b9d-a706-40fb-abb9-8c064c733c9c"
      },
      "execution_count": 51,
      "outputs": [
        {
          "output_type": "stream",
          "name": "stdout",
          "text": [
            "{'name': 'Bob', 'city': 'New York'}\n"
          ]
        }
      ]
    },
    {
      "cell_type": "code",
      "source": [
        "# Q.25 . Write a code to check if the key \"city\" exists in the dictionary {'name': 'Alice', 'city': 'Paris'}.\n",
        "\n",
        "dict_5 = {'name': 'Alice', 'city': 'Paris'}\n",
        "if \"city\" in dict_5:\n",
        "  print(\"yes, the key 'city' exists in the dictionary \")\n",
        "else:\n",
        "  print(\"no, the key 'city' not exists in the dictionary\")"
      ],
      "metadata": {
        "colab": {
          "base_uri": "https://localhost:8080/"
        },
        "id": "_lDHREHHbha2",
        "outputId": "ec40613e-c24c-40a3-cb7f-f9cd0571951b"
      },
      "execution_count": 52,
      "outputs": [
        {
          "output_type": "stream",
          "name": "stdout",
          "text": [
            "yes, the key 'city' exists in the dictionary \n"
          ]
        }
      ]
    },
    {
      "cell_type": "code",
      "source": [
        "# Q.26  Write a code to create a list, a tuple, and a dictionary, and print them all.\n",
        "\n",
        "list_8 = [1,2,\"sakshi\",2.5,True]\n",
        "tuple_8 = (3,4,\"suraj\",3.5,False)\n",
        "dict_6 = {\"name\":\"sakshi\",\"age\":25, \"contact\":12345, \"city\":\"satna\"}\n",
        "print(f\"list : {list_8},\\ntuple : {tuple_8},\\ndictionary : {dict_6} \")"
      ],
      "metadata": {
        "colab": {
          "base_uri": "https://localhost:8080/"
        },
        "id": "B3p65GfvbheW",
        "outputId": "12f433de-3c6f-4a00-dc0c-013fb27f5da9"
      },
      "execution_count": 53,
      "outputs": [
        {
          "output_type": "stream",
          "name": "stdout",
          "text": [
            "list : [1, 2, 'sakshi', 2.5, True],\n",
            "tuple : (3, 4, 'suraj', 3.5, False),\n",
            "dictionary : {'name': 'sakshi', 'age': 25, 'contact': 12345, 'city': 'satna'} \n"
          ]
        }
      ]
    },
    {
      "cell_type": "code",
      "source": [
        "# Q.27  Write a code to create a list of 5 random numbers between 1 and 100, sort it in ascending order, and print the result.(replaced)\n",
        "\n",
        "num = [67,55,20,98,15]\n",
        "print(sorted(num))\n"
      ],
      "metadata": {
        "colab": {
          "base_uri": "https://localhost:8080/"
        },
        "id": "XdJ23jEjbhiG",
        "outputId": "ea95edf8-1aa0-417d-fda4-9109c895428c"
      },
      "execution_count": 54,
      "outputs": [
        {
          "output_type": "stream",
          "name": "stdout",
          "text": [
            "[15, 20, 55, 67, 98]\n"
          ]
        }
      ]
    },
    {
      "cell_type": "code",
      "source": [
        "# Q.28  Write a code to create a list with strings and print the element at the third index.\n",
        "\n",
        "list_str = [\"apple\",\"banana\",\"orange\",\"papaya\",\"grapes\"]\n",
        "print(list_str[3])"
      ],
      "metadata": {
        "colab": {
          "base_uri": "https://localhost:8080/"
        },
        "id": "U9HReT-bbhmt",
        "outputId": "3dd819c1-81f5-4061-f661-4ff659523b42"
      },
      "execution_count": 55,
      "outputs": [
        {
          "output_type": "stream",
          "name": "stdout",
          "text": [
            "papaya\n"
          ]
        }
      ]
    },
    {
      "cell_type": "code",
      "source": [
        "# Q.29 . Write a code to combine two dictionaries into one and print the result.\n",
        "\n",
        "dict_a = {\"math\": 85,\"hindi\": 95,\"social science\": 60}\n",
        "dict_b = {\"english\":70, \"science\":75, \"history\": 77}\n",
        "combine_dict = dict_a | dict_b\n",
        "print(combine_dict)"
      ],
      "metadata": {
        "colab": {
          "base_uri": "https://localhost:8080/"
        },
        "id": "PXyHSAJOqQJK",
        "outputId": "c08c8967-b48b-40c1-8367-488f7ecc8ac1"
      },
      "execution_count": 56,
      "outputs": [
        {
          "output_type": "stream",
          "name": "stdout",
          "text": [
            "{'math': 85, 'hindi': 95, 'social science': 60, 'english': 70, 'science': 75, 'history': 77}\n"
          ]
        }
      ]
    },
    {
      "cell_type": "code",
      "source": [
        "# Q.30 Write a code to convert a list of strings into a set.\n",
        "\n",
        "vegetables_list = [\"tomato\", \"carrot\",\"potato\", \"broccoli\",\"pea\"]\n",
        "vegetables_set = set(vegetables_list)\n",
        "print(vegetables_set)\n",
        "print(type(vegetables_set))"
      ],
      "metadata": {
        "colab": {
          "base_uri": "https://localhost:8080/"
        },
        "id": "YUFS9rVCqQM9",
        "outputId": "222d8332-c9b1-4da5-e3c7-657861cc909e"
      },
      "execution_count": 58,
      "outputs": [
        {
          "output_type": "stream",
          "name": "stdout",
          "text": [
            "{'potato', 'tomato', 'carrot', 'pea', 'broccoli'}\n",
            "<class 'set'>\n"
          ]
        }
      ]
    }
  ]
}